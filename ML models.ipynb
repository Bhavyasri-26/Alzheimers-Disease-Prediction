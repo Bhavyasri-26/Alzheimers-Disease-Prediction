{
 "cells": [
  {
   "cell_type": "code",
   "execution_count": 13,
   "metadata": {},
   "outputs": [],
   "source": [
    "import pandas as pd\n",
    "import numpy as np\n",
    "from sklearn.model_selection import train_test_split\n",
    "from sklearn.neighbors import KNeighborsClassifier\n",
    "from sklearn.ensemble import RandomForestClassifier\n",
    "from sklearn.ensemble import GradientBoostingClassifier\n",
    "from sklearn.svm import SVC\n",
    "from sklearn.preprocessing import StandardScaler\n",
    "from sklearn.metrics import confusion_matrix, accuracy_score\n",
    "from flask import Flask, render_template, request, jsonify, redirect, url_for"
   ]
  },
  {
   "cell_type": "code",
   "execution_count": 14,
   "metadata": {},
   "outputs": [],
   "source": [
    "# Load and preprocess the dataset\n",
    "df_long = pd.read_csv('oasis_longitudinal.csv')\n",
    "df_long.drop(df_long.columns[[0, 1, 3, 4, 6]], axis=1, inplace=True)\n"
   ]
  },
  {
   "cell_type": "code",
   "execution_count": 15,
   "metadata": {},
   "outputs": [],
   "source": [
    "# Fill missing values and encode categorical data\n",
    "df_long['SES'].fillna((round(df_long['SES'].mean())), inplace=True)\n",
    "df_long['MMSE'].fillna((round(df_long['MMSE'].mean())), inplace=True)\n",
    "df_long['CDR'].fillna((round(df_long['CDR'].mean())), inplace=True)\n",
    "df_long['eTIV'].fillna((round(df_long['eTIV'].mean())), inplace=True)\n",
    "df_long['nWBV'].fillna((round(df_long['nWBV'].mean())), inplace=True)\n",
    "df_long['ASF'].fillna((round(df_long['ASF'].mean())), inplace=True)\n",
    "df_long['M/F'] = df_long['M/F'].replace('F', 1)\n",
    "df_long['M/F'] = df_long['M/F'].replace('M', 0)\n",
    "df_long['Group'] = df_long['Group'].replace('Demented', 1)\n",
    "df_long['Group'] = df_long['Group'].replace('Nondemented', 0)\n",
    "df_long['Group'] = df_long['Group'].replace('Converted', 2)"
   ]
  },
  {
   "cell_type": "code",
   "execution_count": 16,
   "metadata": {},
   "outputs": [],
   "source": [
    "# Prepare the data for training\n",
    "array = df_long.values\n",
    "X = array[:, [1, 2, 3, 4, 5, 6, 7, 8, 9]]\n",
    "Y = array[:, 0]\n"
   ]
  },
  {
   "cell_type": "code",
   "execution_count": 17,
   "metadata": {},
   "outputs": [],
   "source": [
    "# Standardize the data\n",
    "scaler = StandardScaler()\n",
    "X = scaler.fit_transform(X)\n"
   ]
  },
  {
   "cell_type": "code",
   "execution_count": 18,
   "metadata": {},
   "outputs": [],
   "source": [
    "X_train, X_test, y_train, y_test = train_test_split(X, Y, random_state=10, test_size=0.2)"
   ]
  },
  {
   "cell_type": "code",
   "execution_count": 19,
   "metadata": {},
   "outputs": [],
   "source": [
    "# Train the SVC\n",
    "svm_classifier = SVC(kernel='rbf', random_state=42, probability=True)\n",
    "svm_classifier.fit(X_train, y_train)\n",
    "y_pred = svm_classifier.predict(X_test)"
   ]
  },
  {
   "cell_type": "code",
   "execution_count": 20,
   "metadata": {},
   "outputs": [],
   "source": [
    "rand_classifier = RandomForestClassifier(n_estimators=100, random_state=42)\n",
    "rand_classifier.fit(X_train, y_train)\n",
    "y_pred = rand_classifier.predict(X_test)"
   ]
  },
  {
   "cell_type": "code",
   "execution_count": 21,
   "metadata": {},
   "outputs": [],
   "source": [
    "# Train the KNeighborClassifier\n",
    "knn_classifier = KNeighborsClassifier(n_neighbors=6, p=2, metric='euclidean')\n",
    "knn_classifier.fit(X_train, y_train)\n",
    "y_pred = knn_classifier.predict(X_test)\n"
   ]
  },
  {
   "cell_type": "code",
   "execution_count": 22,
   "metadata": {},
   "outputs": [],
   "source": [
    "# Train the GradientBoostingClassifier\n",
    "grad_classifier = GradientBoostingClassifier(random_state=42)\n",
    "grad_classifier.fit(X_train, y_train)\n",
    "y_pred = grad_classifier.predict(X_test)\n"
   ]
  },
  {
   "cell_type": "code",
   "execution_count": 23,
   "metadata": {},
   "outputs": [
    {
     "name": "stdout",
     "output_type": "stream",
     "text": [
      "[[35  0  0]\n",
      " [ 0 36  0]\n",
      " [ 1  2  1]]\n"
     ]
    }
   ],
   "source": [
    "# Calculate and print accuracy\n",
    "cm = confusion_matrix(y_test, y_pred)\n",
    "print(cm)"
   ]
  },
  {
   "cell_type": "code",
   "execution_count": 24,
   "metadata": {},
   "outputs": [
    {
     "name": "stdout",
     "output_type": "stream",
     "text": [
      "0.96\n"
     ]
    }
   ],
   "source": [
    "print(accuracy_score(y_test, y_pred))"
   ]
  },
  {
   "cell_type": "code",
   "execution_count": 25,
   "metadata": {},
   "outputs": [
    {
     "name": "stderr",
     "output_type": "stream",
     "text": [
      " * Running on http://localhost:5000 (Press CTRL+C to quit)\n"
     ]
    }
   ],
   "source": [
    "# Flask application\n",
    "app = Flask(__name__)\n",
    "\n",
    "@app.route('/')\n",
    "def index():\n",
    "    return render_template('one.html')\n",
    "\n",
    "@app.route('/one_set', methods=['GET'])\n",
    "def one_set():\n",
    "    global age, EDUC\n",
    "    name = request.args.get('name', '')\n",
    "    age = request.args.get('age', '')\n",
    "    EDUC = request.args.get('yoe', '')\n",
    "    return render_template('two.html')\n",
    "\n",
    "@app.route('/two_set', methods=['GET'])\n",
    "def two_set():\n",
    "    global SES, MMSE, CDR\n",
    "    SES = request.args.get('ses', '')\n",
    "    MMSE = request.args.get('mmse', '')\n",
    "    CDR = request.args.get('cdr', '')\n",
    "    return render_template('three.html')\n",
    "\n",
    "@app.route('/third_set', methods=['GET'])\n",
    "def third_set():\n",
    "    global EDUC, SES, MMSE, CDR, age\n",
    "    gender = request.args.get('gender', '')\n",
    "    eTIV = request.args.get('etiv', '')\n",
    "    nWBV = request.args.get('nwbv', '')\n",
    "    ASF = request.args.get('asf', '')\n",
    "\n",
    "    # Prepare the input data\n",
    "    tp = [EDUC, SES, MMSE, CDR, gender, age, eTIV, nWBV, ASF]\n",
    "    tp = np.array(tp).astype(float).reshape(1, -1)\n",
    "    \n",
    "    # Standardize the input data\n",
    "    tp = scaler.transform(tp)\n",
    "    \n",
    "    value = grad_classifier.predict(tp)[0]\n",
    "\n",
    "    # Render the appropriate result template\n",
    "    if value == 0:\n",
    "        return render_template('result2.html')\n",
    "    else:\n",
    "        return render_template('result1.html')\n",
    "\n",
    "@app.route('/home')\n",
    "def home():\n",
    "    return render_template('one.html')\n",
    "\n",
    "if __name__ == '__main__':\n",
    "    from werkzeug.serving import run_simple\n",
    "    run_simple('localhost', 5000, app)"
   ]
  }
 ],
 "metadata": {
  "kernelspec": {
   "display_name": "Python 3",
   "language": "python",
   "name": "python3"
  },
  "language_info": {
   "codemirror_mode": {
    "name": "ipython",
    "version": 3
   },
   "file_extension": ".py",
   "mimetype": "text/x-python",
   "name": "python",
   "nbconvert_exporter": "python",
   "pygments_lexer": "ipython3",
   "version": "3.10.0"
  }
 },
 "nbformat": 4,
 "nbformat_minor": 2
}
